{
 "cells": [
  {
   "cell_type": "code",
   "execution_count": 1,
   "id": "972b70fa",
   "metadata": {
    "tags": []
   },
   "outputs": [
    {
     "data": {
      "text/plain": [
       "'C:\\\\Users\\\\gmednick\\\\Dropbox (Agenus)\\\\Desktop\\\\python_proj'"
      ]
     },
     "execution_count": 1,
     "metadata": {},
     "output_type": "execute_result"
    }
   ],
   "source": [
    "#get path to current working directory\n",
    "%pwd"
   ]
  },
  {
   "cell_type": "code",
   "execution_count": 2,
   "id": "fb3c81ad-6e70-4ad4-b3de-67dee4173787",
   "metadata": {
    "tags": []
   },
   "outputs": [
    {
     "name": "stdout",
     "output_type": "stream",
     "text": [
      " Volume in drive C has no label.\n",
      " Volume Serial Number is 0EAA-D345\n",
      "\n",
      " Directory of C:\\Users\\gmednick\\Dropbox (Agenus)\\Desktop\\testGitHub\n",
      "\n",
      "11/19/2022  09:27 AM    <DIR>          .\n",
      "11/19/2022  09:27 AM    <DIR>          ..\n",
      "11/19/2022  08:32 AM    <DIR>          .ipynb_checkpoints\n",
      "11/19/2022  09:27 AM             8,921 git_repos.ipynb\n",
      "11/19/2022  08:22 AM               145 python_script.py\n",
      "               2 File(s)          9,066 bytes\n",
      "               3 Dir(s)  262,417,428,480 bytes free\n"
     ]
    }
   ],
   "source": [
    "#look inside directory\n",
    "%ls"
   ]
  },
  {
   "cell_type": "code",
   "execution_count": 4,
   "id": "a8fbdc2b-086a-45e4-a57c-a3a5d4a23086",
   "metadata": {
    "tags": []
   },
   "outputs": [
    {
     "name": "stdout",
     "output_type": "stream",
     "text": [
      "[master (root-commit) c656399] first commit\n",
      " 2 files changed, 710 insertions(+)\n",
      " create mode 100644 .ipynb_checkpoints/git_repos-checkpoint.ipynb\n",
      " create mode 100644 git_repos.ipynb\n"
     ]
    }
   ],
   "source": [
    "#Create a git repository\n",
    "#(Unhash the following git commands to run)\n",
    "#!git init\n",
    "#!git add -A\n",
    "#!git commit -m \"first commit\""
   ]
  },
  {
   "cell_type": "code",
   "execution_count": 5,
   "id": "5dafcfd5-8208-45fe-906f-6bcabce46187",
   "metadata": {
    "collapsed": true,
    "jupyter": {
     "outputs_hidden": true
    },
    "tags": []
   },
   "outputs": [
    {
     "name": "stdout",
     "output_type": "stream",
     "text": [
      "On branch master\n",
      "nothing to commit, working tree clean\n"
     ]
    }
   ],
   "source": [
    "#Check status of git tracking\n",
    "!git status"
   ]
  },
  {
   "cell_type": "markdown",
   "id": "6f1c7f70-9391-4177-a35d-df13deeb60f2",
   "metadata": {},
   "source": [
    "##### The next three cells should be run only one time. This will connect the local repository with GitHub"
   ]
  },
  {
   "cell_type": "code",
   "execution_count": 6,
   "id": "42fa3493-66eb-4aa2-9056-f34dad9acfe6",
   "metadata": {
    "tags": []
   },
   "outputs": [],
   "source": [
    "#Connect local project with github repo\n",
    "#!git remote add origin <add your github http or ssh address here>"
   ]
  },
  {
   "cell_type": "code",
   "execution_count": 9,
   "id": "08b56528-d726-4041-aad7-5e6db0c55508",
   "metadata": {},
   "outputs": [],
   "source": [
    "#!git branch -M main"
   ]
  },
  {
   "cell_type": "code",
   "execution_count": 10,
   "id": "5429d6dc-c8d6-4c20-adc8-52d5b715f808",
   "metadata": {
    "collapsed": true,
    "jupyter": {
     "outputs_hidden": true
    },
    "tags": []
   },
   "outputs": [
    {
     "name": "stdout",
     "output_type": "stream",
     "text": [
      "branch 'main' set up to track 'origin/main'.\n"
     ]
    },
    {
     "name": "stderr",
     "output_type": "stream",
     "text": [
      "To https://github.com/gmednick/test.git\n",
      " * [new branch]      main -> main\n"
     ]
    }
   ],
   "source": [
    "#!git push -u origin main"
   ]
  },
  {
   "cell_type": "code",
   "execution_count": 11,
   "id": "452f4efc-c25e-442e-8d7c-cf22744f99c7",
   "metadata": {
    "collapsed": true,
    "jupyter": {
     "outputs_hidden": true
    },
    "tags": []
   },
   "outputs": [
    {
     "name": "stdout",
     "output_type": "stream",
     "text": [
      "On branch main\n",
      "Your branch is up to date with 'origin/main'.\n",
      "\n",
      "Changes not staged for commit:\n",
      "  (use \"git add <file>...\" to update what will be committed)\n",
      "  (use \"git restore <file>...\" to discard changes in working directory)\n",
      "\tmodified:   git_repos.ipynb\n",
      "\n",
      "no changes added to commit (use \"git add\" and/or \"git commit -a\")\n"
     ]
    }
   ],
   "source": [
    "!git status"
   ]
  },
  {
   "cell_type": "code",
   "execution_count": 14,
   "id": "e038ef43-3f9b-47e2-8de0-e840b6b46f5e",
   "metadata": {
    "collapsed": true,
    "jupyter": {
     "outputs_hidden": true
    },
    "tags": []
   },
   "outputs": [
    {
     "name": "stdout",
     "output_type": "stream",
     "text": [
      "On branch master\n",
      "nothing to commit, working tree clean\n"
     ]
    }
   ],
   "source": [
    "# The '-A' flag adds everything in directory\n",
    "!git add -A\n",
    "!git status"
   ]
  },
  {
   "cell_type": "code",
   "execution_count": 15,
   "id": "fffd2144-ad39-4b93-beb1-cb767a0c4b57",
   "metadata": {
    "collapsed": true,
    "jupyter": {
     "outputs_hidden": true
    },
    "tags": []
   },
   "outputs": [
    {
     "name": "stdout",
     "output_type": "stream",
     "text": [
      "On branch master\n",
      "nothing to commit, working tree clean\n"
     ]
    },
    {
     "name": "stderr",
     "output_type": "stream",
     "text": [
      "fatal: The current branch master has no upstream branch.\n",
      "To push the current branch and set the remote as upstream, use\n",
      "\n",
      "    git push --set-upstream origin master\n",
      "\n",
      "To have this happen automatically for branches without a tracking\n",
      "upstream, see 'push.autoSetupRemote' in 'git help config'.\n",
      "\n"
     ]
    }
   ],
   "source": [
    "!git commit -m \"Write a meaning commit message explaining the changes that were made\"\n",
    "!git push"
   ]
  },
  {
   "cell_type": "code",
   "execution_count": 16,
   "id": "a04d2569-122b-4231-9b0b-84ac72936eb5",
   "metadata": {
    "collapsed": true,
    "jupyter": {
     "outputs_hidden": true
    },
    "tags": []
   },
   "outputs": [
    {
     "name": "stdout",
     "output_type": "stream",
     "text": [
      "branch 'master' set up to track 'origin/master'.\n"
     ]
    },
    {
     "name": "stderr",
     "output_type": "stream",
     "text": [
      "To https://github.com/gmednick/python_test.git\n",
      " * [new branch]      master -> master\n"
     ]
    }
   ],
   "source": [
    "!git push --set-upstream origin master"
   ]
  },
  {
   "cell_type": "code",
   "execution_count": 17,
   "id": "27d5c0e6-d229-4544-9316-2bc4cddfc625",
   "metadata": {
    "collapsed": true,
    "jupyter": {
     "outputs_hidden": true
    },
    "tags": []
   },
   "outputs": [
    {
     "name": "stdout",
     "output_type": "stream",
     "text": [
      "On branch master\n",
      "Your branch is up to date with 'origin/master'.\n",
      "\n",
      "Changes not staged for commit:\n",
      "  (use \"git add <file>...\" to update what will be committed)\n",
      "  (use \"git restore <file>...\" to discard changes in working directory)\n",
      "\tmodified:   git_repos.ipynb\n",
      "\n",
      "no changes added to commit (use \"git add\" and/or \"git commit -a\")\n"
     ]
    }
   ],
   "source": [
    "!git status"
   ]
  },
  {
   "cell_type": "code",
   "execution_count": 12,
   "id": "3e51a5c7-e8d8-423c-a8d9-9fe72259cbe1",
   "metadata": {
    "collapsed": true,
    "jupyter": {
     "outputs_hidden": true
    },
    "tags": []
   },
   "outputs": [
    {
     "name": "stdout",
     "output_type": "stream",
     "text": [
      "[master 611397b] removed github ssh address\n",
      " 1 file changed, 100 insertions(+), 30 deletions(-)\n",
      "Enumerating objects: 5, done.\n",
      "Counting objects: 100% (5/5), done.\n",
      "Delta compression using up to 4 threads\n",
      "Compressing objects: 100% (3/3), done.\n",
      "Writing objects: 100% (3/3), 1.23 KiB | 1.23 MiB/s, done.\n",
      "Total 3 (delta 1), reused 0 (delta 0)\n",
      "remote: Resolving deltas: 100% (1/1), completed with 1 local object.\u001b[K\n",
      "To github.com:gmednick/LB_BI.git\n",
      "   68750fc..611397b  master -> master\n"
     ]
    }
   ],
   "source": [
    "!git add git_repos.ipynb\n",
    "!git commit -m \"removed github ssh address\"\n",
    "!git push"
   ]
  },
  {
   "cell_type": "code",
   "execution_count": null,
   "id": "69135669-ae7c-4ce3-82be-e4a290bc6012",
   "metadata": {},
   "outputs": [],
   "source": []
  }
 ],
 "metadata": {
  "kernelspec": {
   "display_name": "Python 3 (ipykernel)",
   "language": "python",
   "name": "python3"
  },
  "language_info": {
   "codemirror_mode": {
    "name": "ipython",
    "version": 3
   },
   "file_extension": ".py",
   "mimetype": "text/x-python",
   "name": "python",
   "nbconvert_exporter": "python",
   "pygments_lexer": "ipython3",
   "version": "3.9.12"
  }
 },
 "nbformat": 4,
 "nbformat_minor": 5
}
