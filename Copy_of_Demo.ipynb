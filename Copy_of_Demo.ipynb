{
  "nbformat": 4,
  "nbformat_minor": 0,
  "metadata": {
    "colab": {
      "provenance": [],
      "authorship_tag": "ABX9TyM87icaySfIIfw04nesF068",
      "include_colab_link": true
    },
    "kernelspec": {
      "name": "python3",
      "display_name": "Python 3"
    },
    "language_info": {
      "name": "python"
    }
  },
  "cells": [
    {
      "cell_type": "markdown",
      "metadata": {
        "id": "view-in-github",
        "colab_type": "text"
      },
      "source": [
        "<a href=\"https://colab.research.google.com/github/val93s/gapminder_analysis/blob/main/Copy_of_Demo.ipynb\" target=\"_parent\"><img src=\"https://colab.research.google.com/assets/colab-badge.svg\" alt=\"Open In Colab\"/></a>"
      ]
    },
    {
      "cell_type": "code",
      "execution_count": null,
      "metadata": {
        "colab": {
          "base_uri": "https://localhost:8080/",
          "height": 131
        },
        "id": "lKNL1bDIExHR",
        "outputId": "8bd64d6b-d0b1-4336-9071-475d1d0948c5"
      },
      "outputs": [
        {
          "output_type": "error",
          "ename": "SyntaxError",
          "evalue": "ignored",
          "traceback": [
            "\u001b[0;36m  File \u001b[0;32m\"<ipython-input-14-b796e8987674>\"\u001b[0;36m, line \u001b[0;32m1\u001b[0m\n\u001b[0;31m    Floating Point Arithmetic\u001b[0m\n\u001b[0m                 ^\u001b[0m\n\u001b[0;31mSyntaxError\u001b[0m\u001b[0;31m:\u001b[0m invalid syntax\n"
          ]
        }
      ],
      "source": [
        "Floating Point Arithmetic"
      ]
    },
    {
      "cell_type": "markdown",
      "source": [
        "num_latte = 10\n",
        "\n",
        "num_mocha = 7\n",
        "\n",
        "num_coffee = 12\n",
        "\n"
      ],
      "metadata": {
        "id": "1trxH9b8FeFm"
      }
    },
    {
      "cell_type": "markdown",
      "source": [
        "price_latte = 4\n",
        "\n",
        "price_mocha = 4.25\n",
        "\n",
        "price_coffee = 2"
      ],
      "metadata": {
        "id": "jU7vW9EUH7iA"
      }
    },
    {
      "cell_type": "code",
      "source": [
        "total_latte = num_latte * price_latte\n"
      ],
      "metadata": {
        "colab": {
          "base_uri": "https://localhost:8080/",
          "height": 166
        },
        "id": "ATm6fHJvIOVH",
        "outputId": "66471484-94c1-4386-85e1-de943e266bff"
      },
      "execution_count": null,
      "outputs": [
        {
          "output_type": "error",
          "ename": "NameError",
          "evalue": "ignored",
          "traceback": [
            "\u001b[0;31m---------------------------------------------------------------------------\u001b[0m",
            "\u001b[0;31mNameError\u001b[0m                                 Traceback (most recent call last)",
            "\u001b[0;32m<ipython-input-17-94716b4d91aa>\u001b[0m in \u001b[0;36m<module>\u001b[0;34m()\u001b[0m\n\u001b[0;32m----> 1\u001b[0;31m \u001b[0mtotal_latte\u001b[0m \u001b[0;34m=\u001b[0m \u001b[0mnum_latte\u001b[0m \u001b[0;34m*\u001b[0m \u001b[0mprice_latte\u001b[0m\u001b[0;34m\u001b[0m\u001b[0;34m\u001b[0m\u001b[0m\n\u001b[0m",
            "\u001b[0;31mNameError\u001b[0m: name 'num_latte' is not defined"
          ]
        }
      ]
    },
    {
      "cell_type": "code",
      "source": [
        "total_latte = num_latte * price_latte print(total_latte)"
      ],
      "metadata": {
        "colab": {
          "base_uri": "https://localhost:8080/",
          "height": 131
        },
        "id": "4fDsK1eVLrEO",
        "outputId": "7904d187-62c5-458b-8ffd-06900e21e864"
      },
      "execution_count": null,
      "outputs": [
        {
          "output_type": "error",
          "ename": "SyntaxError",
          "evalue": "ignored",
          "traceback": [
            "\u001b[0;36m  File \u001b[0;32m\"<ipython-input-18-1f77a2eacfe8>\"\u001b[0;36m, line \u001b[0;32m1\u001b[0m\n\u001b[0;31m    total_latte = num_latte * price_latte print(total_latte)\u001b[0m\n\u001b[0m                                              ^\u001b[0m\n\u001b[0;31mSyntaxError\u001b[0m\u001b[0;31m:\u001b[0m invalid syntax\n"
          ]
        }
      ]
    },
    {
      "cell_type": "code",
      "source": [
        "total_mocha = num_mocha * price_mocha\n",
        "print(total_mocha)\n",
        "\n",
        "total_coffee = num_coffee * price_coffee\n",
        "print(total_coffee)\n",
        "29.75\n",
        "24\n"
      ],
      "metadata": {
        "colab": {
          "base_uri": "https://localhost:8080/",
          "height": 235
        },
        "id": "YSLy6rvcMok8",
        "outputId": "90d6c027-0582-4dda-88f5-1f18d896eb0f"
      },
      "execution_count": null,
      "outputs": [
        {
          "output_type": "error",
          "ename": "NameError",
          "evalue": "ignored",
          "traceback": [
            "\u001b[0;31m---------------------------------------------------------------------------\u001b[0m",
            "\u001b[0;31mNameError\u001b[0m                                 Traceback (most recent call last)",
            "\u001b[0;32m<ipython-input-19-697624b1b5f2>\u001b[0m in \u001b[0;36m<module>\u001b[0;34m()\u001b[0m\n\u001b[0;32m----> 1\u001b[0;31m \u001b[0mtotal_mocha\u001b[0m \u001b[0;34m=\u001b[0m \u001b[0mnum_mocha\u001b[0m \u001b[0;34m*\u001b[0m \u001b[0mprice_mocha\u001b[0m\u001b[0;34m\u001b[0m\u001b[0;34m\u001b[0m\u001b[0m\n\u001b[0m\u001b[1;32m      2\u001b[0m \u001b[0mprint\u001b[0m\u001b[0;34m(\u001b[0m\u001b[0mtotal_mocha\u001b[0m\u001b[0;34m)\u001b[0m\u001b[0;34m\u001b[0m\u001b[0;34m\u001b[0m\u001b[0m\n\u001b[1;32m      3\u001b[0m \u001b[0;34m\u001b[0m\u001b[0m\n\u001b[1;32m      4\u001b[0m \u001b[0mtotal_coffee\u001b[0m \u001b[0;34m=\u001b[0m \u001b[0mnum_coffee\u001b[0m \u001b[0;34m*\u001b[0m \u001b[0mprice_coffee\u001b[0m\u001b[0;34m\u001b[0m\u001b[0;34m\u001b[0m\u001b[0m\n\u001b[1;32m      5\u001b[0m \u001b[0mprint\u001b[0m\u001b[0;34m(\u001b[0m\u001b[0mtotal_coffee\u001b[0m\u001b[0;34m)\u001b[0m\u001b[0;34m\u001b[0m\u001b[0;34m\u001b[0m\u001b[0m\n",
            "\u001b[0;31mNameError\u001b[0m: name 'num_mocha' is not defined"
          ]
        }
      ]
    },
    {
      "cell_type": "code",
      "source": [
        "grand_total =total_latte + total_mocha + total_coffee\n",
        "print(grand_total)\n"
      ],
      "metadata": {
        "colab": {
          "base_uri": "https://localhost:8080/",
          "height": 183
        },
        "id": "jQDxyxT9M_6Z",
        "outputId": "0ceea5db-6ee2-4669-9f30-337a100d876f"
      },
      "execution_count": null,
      "outputs": [
        {
          "output_type": "error",
          "ename": "NameError",
          "evalue": "ignored",
          "traceback": [
            "\u001b[0;31m---------------------------------------------------------------------------\u001b[0m",
            "\u001b[0;31mNameError\u001b[0m                                 Traceback (most recent call last)",
            "\u001b[0;32m<ipython-input-20-4f41b8b57141>\u001b[0m in \u001b[0;36m<module>\u001b[0;34m()\u001b[0m\n\u001b[0;32m----> 1\u001b[0;31m \u001b[0mgrand_total\u001b[0m \u001b[0;34m=\u001b[0m\u001b[0mtotal_latte\u001b[0m \u001b[0;34m+\u001b[0m \u001b[0mtotal_mocha\u001b[0m \u001b[0;34m+\u001b[0m \u001b[0mtotal_coffee\u001b[0m\u001b[0;34m\u001b[0m\u001b[0;34m\u001b[0m\u001b[0m\n\u001b[0m\u001b[1;32m      2\u001b[0m \u001b[0mprint\u001b[0m\u001b[0;34m(\u001b[0m\u001b[0mgrand_total\u001b[0m\u001b[0;34m)\u001b[0m\u001b[0;34m\u001b[0m\u001b[0;34m\u001b[0m\u001b[0m\n",
            "\u001b[0;31mNameError\u001b[0m: name 'total_latte' is not defined"
          ]
        }
      ]
    },
    {
      "cell_type": "code",
      "source": [
        "Activity 1.3.2\n"
      ],
      "metadata": {
        "id": "ZnDu3dbjNQKm"
      },
      "execution_count": null,
      "outputs": []
    },
    {
      "cell_type": "code",
      "source": [
        "def order_price(num_pizzas, num_reg_toppings, num_premium_toppings):\n",
        "  price_pizza = 8\n",
        "  price_reg_toppings =5\n",
        "  price_premium_toppings =2\n",
        "\n",
        "  total_price = (num_pizzas * price_pizza)+ (num_reg_toppings * price_reg_toppings) + (num_premium_toppings * price_premium_topping)\n",
        "\n",
        "\n",
        " def order_price(num_pizzas, \n",
        "from typing import List\n",
        "import ipywidgets as widgets\n",
        "from ipywidgets import interact, interactive, fixed, interact_manual\n",
        "\n",
        "def get_pizza_price(toppings : List[str]) -> float:\n",
        "# def get_pizza_price(toppings : int) -> float:\n",
        "  \"\"\"\n",
        "    Function to get the pizza price based on user selection\n",
        "\n",
        "    arguments\n",
        "    ---------\n",
        "    toppings : List of String\n",
        "      List of toppings to use to final pizza price calculation\n",
        "  \"\"\"\n",
        "  base_price : float = 8.0\n",
        "  print(type(base_price))\n",
        "  price_per_topping : float = 0.5\n",
        "  pizza_price : float = base_price + (price_per_topping * len(toppings))\n",
        "  print(f'Total pizza price: ${pizza_price}')\n",
        "  return None\n",
        "\n",
        "\n",
        "toppings_list = ['olives', 'mushrooms','peppers', 'pepperoni', 'sausage', \n",
        "                 'meatballs','arugula','prosciutto']\n",
        "interact(get_pizza_price, \n",
        "         toppings=widgets.SelectMultiple(options=toppings_list, \n",
        "                                         description='Select toppings:'))\n"
      ],
      "metadata": {
        "id": "H0XGyDssd9KQ",
        "colab": {
          "base_uri": "https://localhost:8080/",
          "height": 131
        },
        "outputId": "7a158dda-c216-494c-eaf9-5e7f59d78522"
      },
      "execution_count": null,
      "outputs": [
        {
          "output_type": "error",
          "ename": "IndentationError",
          "evalue": "ignored",
          "traceback": [
            "\u001b[0;36m  File \u001b[0;32m\"<ipython-input-1-612cab421904>\"\u001b[0;36m, line \u001b[0;32m9\u001b[0m\n\u001b[0;31m    def order_price(num_pizzas,\u001b[0m\n\u001b[0m                                ^\u001b[0m\n\u001b[0;31mIndentationError\u001b[0m\u001b[0;31m:\u001b[0m unindent does not match any outer indentation level\n"
          ]
        }
      ]
    },
    {
      "cell_type": "code",
      "source": [
        "Endpoint Example"
      ],
      "metadata": {
        "colab": {
          "base_uri": "https://localhost:8080/",
          "height": 131
        },
        "id": "eyYaStI2ua7z",
        "outputId": "1f20977b-206a-440c-eb45-13e4aa4bc16a"
      },
      "execution_count": null,
      "outputs": [
        {
          "output_type": "error",
          "ename": "SyntaxError",
          "evalue": "ignored",
          "traceback": [
            "\u001b[0;36m  File \u001b[0;32m\"<ipython-input-2-6aa64d935546>\"\u001b[0;36m, line \u001b[0;32m1\u001b[0m\n\u001b[0;31m    Endpoint Example\u001b[0m\n\u001b[0m                   ^\u001b[0m\n\u001b[0;31mSyntaxError\u001b[0m\u001b[0;31m:\u001b[0m invalid syntax\n"
          ]
        }
      ]
    },
    {
      "cell_type": "code",
      "source": [
        "import_requests"
      ],
      "metadata": {
        "id": "dQ9fA62Ju6j5"
      },
      "execution_count": null,
      "outputs": []
    }
  ]
}